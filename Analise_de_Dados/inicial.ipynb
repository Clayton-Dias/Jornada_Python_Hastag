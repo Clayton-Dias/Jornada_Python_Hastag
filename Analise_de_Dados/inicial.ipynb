{
 "cells": [
  {
   "cell_type": "markdown",
   "metadata": {},
   "source": [
    "# Python Insights - Analisando Dados com Python\n",
    "\n",
    "### Case - Cancelamento de Clientes\n",
    "\n",
    "Você foi contratado por uma empresa com mais de 800 mil clientes para um projeto de Dados. Recentemente a empresa percebeu que da sua base total de clientes, a maioria são clientes inativos, ou seja, que já cancelaram o serviço.\n",
    "\n",
    "Precisando melhorar seus resultados ela quer conseguir entender os principais motivos desses cancelamentos e quais as ações mais eficientes para reduzir esse número.\n",
    "\n",
    "Base de dados e arquivos: https://drive.google.com/drive/folders/1uDesZePdkhiraJmiyeZ-w5tfc8XsNYFZ?usp=drive_link"
   ]
  },
  {
   "cell_type": "code",
   "execution_count": null,
   "metadata": {},
   "outputs": [],
   "source": [
    "# Passo 1: Importar a base de dados\n",
    "# %pip install pandas numpy openpyxl nbformat ipykernel plotly # instalando bibliotecas \n",
    "import pandas as pd\n",
    "\n",
    "tabela = pd.read_csv(\"cancelamentos.csv\")\n",
    "#print(tabela)\n",
    "\n",
    "# Passo 2: Visualizar a base de dados   \n",
    "    # enteder quais as informações disponívies\n",
    "    # procurar os problemas/erros da base de dados\n",
    "    \n",
    "# OBS: colunas inúteis - informações que não te ajudam, atrapalham.    \n",
    "tabela = tabela.drop(columns=\"CustomerID\")    \n",
    "\n",
    "display(tabela)"
   ]
  },
  {
   "cell_type": "code",
   "execution_count": null,
   "metadata": {},
   "outputs": [],
   "source": [
    "# Passo 3: Corrigir os problemas/erros da base de dados\n",
    "    # informações vazias ou formato errado\n",
    "display(tabela.info())\n",
    "\n",
    "# valores vazios - excluir as linhas que têm valores vazios ou jogar fora as informações vazias da tabela\n",
    "tabela = tabela.dropna() # na = NaN => Not a Number -> informação vazia  \n",
    "#tabela = tabela.drop_duplicates() # excluir os valores dupplicados\n",
    "display(tabela.info())  "
   ]
  },
  {
   "cell_type": "code",
   "execution_count": null,
   "metadata": {},
   "outputs": [],
   "source": [
    "# Passo 4: Análise dos cancelamentos(Quantos cancelaram, quantos ativos, qual os %)\n",
    "display(tabela[\"cancelou\"].value_counts())\n",
    "\n",
    "# em percentual = normalizado\n",
    "display(tabela[\"cancelou\"].value_counts(normalize=True))\n",
    "\n",
    "# mostrando em porcentagem \"%\"\n",
    "#display(tabela[\"cancelou\"].value_counts(normalize=True).map(\"{:.2%}\".format))\n"
   ]
  },
  {
   "cell_type": "code",
   "execution_count": null,
   "metadata": {},
   "outputs": [],
   "source": [
    "# Passo 5: Análise das causas dos cancelamentos dos clientes (como as colunas impactam no cancelamento)\n",
    "import plotly.express as px\n",
    "\n",
    "# Criar graficos em Python sempre em duas etapas:\n",
    "\n",
    "# Criar o grafico\n",
    "#grafico = px.histogram(tabela, x=\"duracao_contrato\", color=\"cancelou\",text_auto=True)\n",
    "\n",
    "# para cada coluna da tabela\n",
    "for coluna in tabela.columns:\n",
    "    # cria o grafico\n",
    "    grafico = px.histogram(tabela, x=coluna, color=\"cancelou\",text_auto=True)\n",
    "    # exibi o grafico\n",
    "    grafico.show()\n",
    "\n",
    "# Exibir o grafico\n",
    "#grafico.show()\n"
   ]
  },
  {
   "cell_type": "code",
   "execution_count": null,
   "metadata": {},
   "outputs": [],
   "source": [
    "# Causas de cancelamento\n",
    "\n",
    "# Todos os clientes de contrato mensal, cancelaram\n",
    "    # Provavél solução: propor desconto nos contratos anuais e trimestrais para a empresa\n",
    "\n",
    "# Todos os cliente com mais de 20 dias de atraso, cancelaram o  serviço    \n",
    "    # Provavél solução: criar um sistema de cobrança para os clientes com 10 dias de atraso, \n",
    "\n",
    "# Todos os clientes que ligaram mais de 4 vezes para o call center, cancelaram\n",
    "    # Provavél solução: criar um alerta para um cliente que ligou mais de 2 vezes para o call center\n",
    "\n",
    "    \n",
    "# Analise, se resolver esses 3 problemas, quantos diminuiu os cancelamentos ?\n",
    "\n",
    "# duração do contrato não pode ser mensal\n",
    "# tabela[\"duracao_contrato\"] != \"Monthly\"  # condição\n",
    "tabela = tabela[tabela[\"duracao_contrato\"] != \"Monthly\"] # tabela = tabela[condição]\n",
    "\n",
    "# atraso só podem ser de até 20 dias\n",
    "# tabela[\"dias_atraso\"] <= 20   # condição \n",
    "tabela = tabela[tabela[\"dias_atraso\"] <= 20] # tabela = tabela[condição]\n",
    "\n",
    "# ligações no call center até 4 ligações\n",
    "#tabela[\"ligacoes_callcenter\"] <= 4     # condição\n",
    "tabela = tabela[tabela[\"ligacoes_callcenter\"] <= 4]     # tabela = tabela[condição]\n",
    "\n",
    "# Em percentual = normalizado\n",
    "display(tabela[\"cancelou\"].value_counts(normalize=True))\n",
    "\n",
    "\n",
    "# Extra\n",
    "    # total gasto menor que 500, cancelaram\n",
    "        # Provavél solução: fidelização ?\n",
    "#tabela[\"total_gasto\"] <= 500   # condição\n",
    "tabela = tabela[tabela[\"total_gasto\"] <= 500]    # tabela = tabela[condição]\n",
    "#display(tabela[\"cancelou\"].value_counts(normalize=True))\n",
    "\n"
   ]
  }
 ],
 "metadata": {
  "kernelspec": {
   "display_name": "Python 3",
   "language": "python",
   "name": "python3"
  },
  "language_info": {
   "codemirror_mode": {
    "name": "ipython",
    "version": 3
   },
   "file_extension": ".py",
   "mimetype": "text/x-python",
   "name": "python",
   "nbconvert_exporter": "python",
   "pygments_lexer": "ipython3",
   "version": "3.12.7"
  },
  "orig_nbformat": 4
 },
 "nbformat": 4,
 "nbformat_minor": 2
}

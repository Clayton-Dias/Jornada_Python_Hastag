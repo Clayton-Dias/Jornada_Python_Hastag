{
 "cells": [
  {
   "cell_type": "markdown",
   "metadata": {},
   "source": [
    "# Projeto Python IA: Inteligência Artificial e Previsões\n",
    "\n",
    "### Case: Score de Crédito dos Clientes\n",
    "\n",
    "Você foi contratado por um banco para conseguir definir o score de crédito dos clientes. Você precisa analisar todos os clientes do banco e, com base nessa análise, criar um modelo que consiga ler as informações do cliente e dizer automaticamente o score de crédito dele: Ruim, Ok, Bom\n",
    "\n",
    "Arquivos da aula: https://drive.google.com/drive/folders/1FbDqVq4XLvU85VBlVIMJ73p9oOu6u2-J?usp=drive_link"
   ]
  },
  {
   "cell_type": "code",
   "execution_count": 27,
   "metadata": {},
   "outputs": [],
   "source": [
    "# Passo a Passo (ou roteiro)\n",
    "    # 0: Entender o desafio e o objetivo da empresa\n",
    "    # 1: Importar a base de dados\n",
    "    # 2: Preparar a base de dados para a IA (Inteligência Artificial)\n",
    "    # 3: Criar um modelo de IA => Nota/Score de crédito: bom, ok, ruim\n",
    "    # 4: Avaliar qual o melhor mdelo de IA\n",
    "    # 5: Fazer novas previsões\n",
    "    \n",
    "    # bibliotecas do python\n",
    "        # pandas\n",
    "        # scikit-learn"
   ]
  },
  {
   "cell_type": "code",
   "execution_count": null,
   "metadata": {},
   "outputs": [],
   "source": [
    "# 1: Importar a base de dados\n",
    "import pandas as pd\n",
    "\n",
    "tabela = pd.read_csv(\"clientes.csv\") # importar a base de dados\n",
    "\n",
    "display(tabela)  # Exibe informações sobre a estrutura do DataFrame"
   ]
  },
  {
   "cell_type": "code",
   "execution_count": null,
   "metadata": {},
   "outputs": [],
   "source": [
    "# 2: Preparar a base de dados para a IA (Inteligência Artificial)\n",
    "\n",
    "display(tabela.info()) "
   ]
  },
  {
   "cell_type": "code",
   "execution_count": null,
   "metadata": {},
   "outputs": [],
   "source": [
    "# Modificar as seguintes colunas de Object(texto) para número(inteiro), pois a IA só entender números.\n",
    "    # profissao\n",
    "    # mix_credito\n",
    "    # comportamento_pagamento\n",
    "\n",
    "# Label encoder => é uma técnica utilizada em machine learning para converter variáveis categóricas em valores numéricos.\n",
    "\n",
    "# import sklearn  # import o scikit-learn \n",
    "from sklearn.preprocessing import LabelEncoder # Importa a classe LabelEncoder da biblioteca scikit-learn\n",
    "\n",
    "\n",
    "# profissao \n",
    "codificador = LabelEncoder() # Cria uma instância do LabelEncoder\n",
    "\n",
    "# Aplica o codificador na coluna \"profissao\" e armazena os valores codificados de volta na coluna\n",
    "tabela[\"profissao\"] = codificador.fit_transform(tabela[\"profissao\"])\n",
    "\n",
    "\n",
    "# mix_credito\n",
    "codificador2 = LabelEncoder() # Cria uma instância do LabelEncoder\n",
    "\n",
    "# Aplica o codificador na coluna \"mix_credito\" e armazena os valores codificados de volta na coluna\n",
    "tabela[\"mix_credito\"] = codificador2.fit_transform(tabela[\"mix_credito\"])\n",
    "\n",
    "\n",
    "# comportamento_pagamento\n",
    "codificador3 = LabelEncoder() # Cria uma instância do LabelEncoder\n",
    "\n",
    "# Aplica o codificador na coluna \"comportamento_pagamento\" e armazena os valores codificados de volta na coluna\n",
    "tabela[\"comportamento_pagamento\"] = codificador3.fit_transform(tabela[\"comportamento_pagamento\"])\n",
    "\n",
    "\n",
    "display(tabela.info()) # Exibe informações sobre a estrutura do DataFrame"
   ]
  },
  {
   "cell_type": "code",
   "execution_count": 31,
   "metadata": {},
   "outputs": [],
   "source": [
    "# Necessário realizar duas etapas:\n",
    "\n",
    "# 1ª etapa (Treinar): \n",
    "    # Y é quem desejo prever\n",
    "    # X é quem será usado para fazer a previsão\n",
    "y = tabela[\"score_credito\"]\n",
    "x = tabela.drop(columns=[\"score_credito\",\"id_cliente\"])\n",
    "#x = tabela[\"comportamento_pagamento\",\"profissao\",\"mix_credito\"]\n",
    "\n",
    "\n",
    "# 2ª etapa (Testar):\n",
    "from sklearn.model_selection import train_test_split\n",
    "\n",
    "# separamos os dados em treino e teste. Treino vamos dar para os modelos aprenderem e teste vamos usar para ver se o modelo aprendeu corretamente\n",
    "x_treino, x_teste, y_treino, y_teste = train_test_split(x, y)"
   ]
  },
  {
   "cell_type": "code",
   "execution_count": null,
   "metadata": {},
   "outputs": [],
   "source": [
    "# 3: Criar um modelo de IA => Nota/Score de crédito: bom, ok, ruim\n",
    "\n",
    "#OBS: 3 passos para criar a IA: importar, criar e treinar.\n",
    "\n",
    "# 2 modelos de IA:\n",
    "    # Arvore de Decisão -> RandomForest\n",
    "    # Vizinhos Próximos (Nearest Neighbores) -> KNN\n",
    "\n",
    "# importa a IA\n",
    "from sklearn.ensemble import RandomForestClassifier\n",
    "from sklearn.neighbors import KNeighborsClassifier\n",
    "\n",
    "# Cria a IA\n",
    "modelo_arvore = RandomForestClassifier() # modelo arvore de decisao\n",
    "modelo_knn = KNeighborsClassifier() # modelo do KNN (nearest neighbors - vizinhos mais proximos)\n",
    "\n",
    "# Treina a IA\n",
    "modelo_arvore.fit(x_treino, y_treino)\n",
    "modelo_knn.fit(x_treino, y_treino)"
   ]
  },
  {
   "cell_type": "code",
   "execution_count": null,
   "metadata": {},
   "outputs": [],
   "source": [
    "# 4: Avaliar qual o melhor mdelo de IA\n",
    "previsao_arvore = modelo_arvore.predict(x_teste)\n",
    "previsao_knn = modelo_knn.predict(x_teste)\n",
    "\n",
    "# Calcular a acurácia (precisão)\n",
    "from sklearn.metrics import accuracy_score\n",
    "\n",
    "# comparamos as previsoes com o y_teste\n",
    "display(accuracy_score(y_teste, previsao_arvore))\n",
    "display(accuracy_score(y_teste, previsao_knn))\n"
   ]
  },
  {
   "cell_type": "code",
   "execution_count": null,
   "metadata": {},
   "outputs": [],
   "source": [
    "# 5: Fazer novas previsões\n",
    "\n",
    "#imnporta a nova base de dados\n",
    "novos_cliente = pd.read_csv(\"novos_clientes.csv\")\n",
    "display(novos_cliente)\n",
    "\n",
    "novos_cliente[\"profissao\"] = codificador.fit_transform(novos_cliente[\"profissao\"])\n",
    "novos_cliente[\"mix_credito\"] = codificador2.fit_transform(novos_cliente[\"mix_credito\"])\n",
    "novos_cliente[\"comportamento_pagamento\"] = codificador3.fit_transform(novos_cliente[\"comportamento_pagamento\"])\n",
    "\n",
    "previsao = modelo_arvore.predict(novos_cliente)\n",
    "display(previsao)\n",
    "\n"
   ]
  }
 ],
 "metadata": {
  "kernelspec": {
   "display_name": "Python 3",
   "language": "python",
   "name": "python3"
  },
  "language_info": {
   "codemirror_mode": {
    "name": "ipython",
    "version": 3
   },
   "file_extension": ".py",
   "mimetype": "text/x-python",
   "name": "python",
   "nbconvert_exporter": "python",
   "pygments_lexer": "ipython3",
   "version": "3.12.7"
  },
  "orig_nbformat": 4
 },
 "nbformat": 4,
 "nbformat_minor": 2
}
